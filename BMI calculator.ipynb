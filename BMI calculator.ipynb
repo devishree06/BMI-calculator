{
 "cells": [
  {
   "cell_type": "markdown",
   "id": "fec19ba7",
   "metadata": {},
   "source": [
    "# BMI calculator (Pounds, inches)"
   ]
  },
  {
   "cell_type": "code",
   "execution_count": 14,
   "id": "2c531285",
   "metadata": {},
   "outputs": [
    {
     "name": "stdout",
     "output_type": "stream",
     "text": [
      "Enter your name: d\n",
      "Enter your weight in pounds: 170\n",
      "Enter your height in inches: 69\n",
      "Your BMI is 25.101869355177485\n",
      "d,you are overweight.Exercise regularly\n"
     ]
    }
   ],
   "source": [
    "\n",
    "name = input ('Enter your name: ')\n",
    "\n",
    "weight = int(input('Enter your weight in pounds: '))\n",
    "\n",
    "height = int(input('Enter your height in inches: '))\n",
    "\n",
    "BMI = (weight * 703) / (height * height)\n",
    "\n",
    "print ('Your BMI is', BMI)\n",
    "\n",
    "if BMI > 0 :\n",
    "    if (BMI < 18.5):\n",
    "        print (name + ',you are underweight')\n",
    "    elif (BMI <= 24.9) :\n",
    "        print (name+',you are normal weight. Good job!')\n",
    "    elif (BMI <= 29.9) :\n",
    "        print (name+',you are overweight.Exercise regularly')\n",
    "    elif (BMI <= 34.9) :\n",
    "        print (name+',you are Obese.Please exercise regularly')\n",
    "    elif (BMI <= 39.9) :\n",
    "         print (name+',you are Severely Obese.Please exercise regularly and follow healthy diet')\n",
    "    else :\n",
    "         print (name+',you are Morbidly Obese.Please exercise regularly and follow healthy diet')   \n",
    "else :    \n",
    "        print(\"Enter valid input\")"
   ]
  },
  {
   "cell_type": "code",
   "execution_count": null,
   "id": "85f059f7",
   "metadata": {},
   "outputs": [],
   "source": []
  },
  {
   "cell_type": "code",
   "execution_count": null,
   "id": "6ce5f59b",
   "metadata": {},
   "outputs": [],
   "source": []
  },
  {
   "cell_type": "code",
   "execution_count": null,
   "id": "3201c520",
   "metadata": {},
   "outputs": [],
   "source": [
    "#BMI = (weight in pounds x 703) / (height in inches x height in inches)"
   ]
  },
  {
   "cell_type": "code",
   "execution_count": null,
   "id": "e24d701b",
   "metadata": {},
   "outputs": [],
   "source": [
    "Under 18.5\tUnderweight\tMinimal\n",
    "18.5 - 24.9\tNormal Weight\tMinimal\n",
    "25 - 29.9\tOverweight\tIncreased\n",
    "30 - 34.9\tObese\tHigh\n",
    "35 - 39.9\tSeverely Obese\tVery High\n",
    "40 and over\tMorbidly Obese\tExtremely High"
   ]
  },
  {
   "cell_type": "code",
   "execution_count": null,
   "id": "1d0c848d",
   "metadata": {},
   "outputs": [],
   "source": []
  },
  {
   "cell_type": "code",
   "execution_count": null,
   "id": "9185fcc1",
   "metadata": {},
   "outputs": [],
   "source": []
  },
  {
   "cell_type": "code",
   "execution_count": null,
   "id": "9b773ab2",
   "metadata": {},
   "outputs": [],
   "source": []
  },
  {
   "cell_type": "markdown",
   "id": "9bf8e5c1",
   "metadata": {},
   "source": [
    "# BMI calculator (Kgs, cms)"
   ]
  },
  {
   "cell_type": "code",
   "execution_count": 15,
   "id": "61e44e11",
   "metadata": {},
   "outputs": [
    {
     "name": "stdout",
     "output_type": "stream",
     "text": [
      "Enter your name: de\n",
      "Enter your weight in kgs: 59\n",
      "Enter your height in cms: 151\n",
      "Your BMI is 25.876058067628612\n",
      "de,you are overweight.Exercise regularly\n"
     ]
    }
   ],
   "source": [
    "name = input ('Enter your name: ')\n",
    "\n",
    "weight = int(input('Enter your weight in kgs: '))\n",
    "\n",
    "height = int(input('Enter your height in cms: '))\n",
    "\n",
    "BMI = ((weight) /(height)/ (height))*10000 #[weight (kg) / height (cm) / height (cm)] x 10,000\n",
    "\n",
    "print ('Your BMI is', BMI)\n",
    "\n",
    "if BMI > 0 :\n",
    "    if (BMI < 18.5):\n",
    "        print (name + ',you are underweight')\n",
    "    elif (BMI <= 24.9) :\n",
    "        print (name+',you are normal weight. Good job!')\n",
    "    elif (BMI <= 29.9) :\n",
    "        print (name+',you are overweight.Exercise regularly')\n",
    "    elif (BMI <= 34.9) :\n",
    "        print (name+',you are Obese.Please exercise regularly')\n",
    "    elif (BMI <= 39.9) :\n",
    "         print (name+',you are Severely Obese.Please exercise regularly and follow healthy diet')\n",
    "    else :\n",
    "         print (name+',you are Morbidly Obese.Please exercise regularly and follow healthy diet')   \n",
    "else :    \n",
    "        print(\"Enter valid input\")"
   ]
  },
  {
   "cell_type": "code",
   "execution_count": null,
   "id": "db2fde62",
   "metadata": {},
   "outputs": [],
   "source": []
  },
  {
   "cell_type": "code",
   "execution_count": null,
   "id": "bf4adeb1",
   "metadata": {},
   "outputs": [],
   "source": []
  },
  {
   "cell_type": "code",
   "execution_count": null,
   "id": "33a5284b",
   "metadata": {},
   "outputs": [],
   "source": []
  },
  {
   "cell_type": "code",
   "execution_count": null,
   "id": "e094c9e8",
   "metadata": {},
   "outputs": [],
   "source": []
  },
  {
   "cell_type": "code",
   "execution_count": null,
   "id": "bc221a85",
   "metadata": {},
   "outputs": [],
   "source": []
  },
  {
   "cell_type": "code",
   "execution_count": null,
   "id": "78f9ec9f",
   "metadata": {},
   "outputs": [],
   "source": []
  },
  {
   "cell_type": "code",
   "execution_count": null,
   "id": "40ed69be",
   "metadata": {},
   "outputs": [],
   "source": []
  },
  {
   "cell_type": "code",
   "execution_count": null,
   "id": "0ed9a7bb",
   "metadata": {},
   "outputs": [],
   "source": []
  },
  {
   "cell_type": "code",
   "execution_count": null,
   "id": "430acd8c",
   "metadata": {},
   "outputs": [],
   "source": []
  }
 ],
 "metadata": {
  "kernelspec": {
   "display_name": "Python 3 (ipykernel)",
   "language": "python",
   "name": "python3"
  },
  "language_info": {
   "codemirror_mode": {
    "name": "ipython",
    "version": 3
   },
   "file_extension": ".py",
   "mimetype": "text/x-python",
   "name": "python",
   "nbconvert_exporter": "python",
   "pygments_lexer": "ipython3",
   "version": "3.10.9"
  }
 },
 "nbformat": 4,
 "nbformat_minor": 5
}
